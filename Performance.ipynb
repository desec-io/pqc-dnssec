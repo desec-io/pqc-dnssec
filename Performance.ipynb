{
 "cells": [
  {
   "cell_type": "code",
   "execution_count": 1,
   "id": "a7537c7d",
   "metadata": {},
   "outputs": [],
   "source": [
    "# requires seaborn, pandas"
   ]
  },
  {
   "cell_type": "code",
   "execution_count": 2,
   "id": "0bff6783",
   "metadata": {},
   "outputs": [],
   "source": [
    "import uuid\n",
    "from datetime import datetime\n",
    "import logging\n",
    "\n",
    "import seaborn as sns\n",
    "import pandas as pd\n",
    "import dns.message\n",
    "import dns.query\n",
    "import dns.flags\n",
    "from dns.rdatatype import SOA, TXT, RRSIG, A, AAAA\n",
    "from dns.rdataclass import IN\n",
    "\n",
    "logging.basicConfig(level=logging.ERROR, force=True)\n",
    "\n",
    "sns.set_style('whitegrid')\n",
    "\n",
    "def query(qname, rdtype) -> dns.message.Message:\n",
    "    q = dns.message.make_query(\n",
    "        qname=qname, rdtype=rdtype, want_dnssec=False, use_edns=0,\n",
    "    )\n",
    "    q.flags |= dns.flags.AD\n",
    "    logging.debug(q.to_text())\n",
    "    start = datetime.now()\n",
    "    r = dns.query.udp(q, where='127.0.0.1', port=5302)  # local recursor\n",
    "    return r, (datetime.now() - start).total_seconds()"
   ]
  },
  {
   "cell_type": "code",
   "execution_count": 3,
   "id": "fccdb4aa",
   "metadata": {},
   "outputs": [],
   "source": [
    "def random_query(cipher):\n",
    "    qname = dns.name.from_text(f\"{str(uuid.uuid4())}.{cipher}.example.\")\n",
    "    rdtype = TXT\n",
    "    r, query_time = query(qname, rdtype)\n",
    "    assert dns.flags.AD in r.flags\n",
    "    assert len(r.get_rrset(dns.message.ANSWER, qname, IN, rdtype)) > 0\n",
    "    return {\n",
    "        'cipher': cipher,\n",
    "        'query_time': query_time,\n",
    "    }"
   ]
  },
  {
   "cell_type": "code",
   "execution_count": 4,
   "id": "a4bdad22",
   "metadata": {},
   "outputs": [
    {
     "data": {
      "text/plain": [
       "({'cipher': 'classic', 'query_time': 0.006188},\n",
       " {'cipher': 'falcon', 'query_time': 0.00444})"
      ]
     },
     "execution_count": 4,
     "metadata": {},
     "output_type": "execute_result"
    }
   ],
   "source": [
    "# warm up cache\n",
    "random_query('classic'), random_query('falcon')"
   ]
  },
  {
   "cell_type": "code",
   "execution_count": 5,
   "id": "584f1827",
   "metadata": {},
   "outputs": [],
   "source": [
    "# test configuration\n",
    "ciphers = ['classic', 'falcon']\n",
    "samples = 10000"
   ]
  },
  {
   "cell_type": "code",
   "execution_count": 6,
   "id": "1dd9b18b",
   "metadata": {},
   "outputs": [],
   "source": [
    "# do measurements\n",
    "query_times = pd.DataFrame(\n",
    "    [random_query(cipher) for _ in range(samples) for cipher in ciphers]\n",
    ")"
   ]
  },
  {
   "cell_type": "code",
   "execution_count": 7,
   "id": "58ffeb1d",
   "metadata": {},
   "outputs": [
    {
     "data": {
      "image/png": "[encoded data removed]",
      "text/plain": [
       "<Figure size 432x288 with 1 Axes>"
      ]
     },
     "metadata": {},
     "output_type": "display_data"
    }
   ],
   "source": [
    "# visualize\n",
    "g = sns.histplot(\n",
    "    query_times, \n",
    "    x='query_time', hue='cipher', \n",
    "    log_scale=(True, False),\n",
    ")\n",
    "g.set(xlim=(2*1e-3, 1e-2))\n",
    "None"
   ]
  },
  {
   "cell_type": "code",
   "execution_count": null,
   "id": "a4209ed9",
   "metadata": {},
   "outputs": [],
   "source": []
  }
 ],
 "metadata": {
  "kernelspec": {
   "display_name": "Python 3",
   "language": "python",
   "name": "python3"
  },
  "language_info": {
   "codemirror_mode": {
    "name": "ipython",
    "version": 3
   },
   "file_extension": ".py",
   "mimetype": "text/x-python",
   "name": "python",
   "nbconvert_exporter": "python",
   "pygments_lexer": "ipython3",
   "version": "3.9.5"
  }
 },
 "nbformat": 4,
 "nbformat_minor": 5
}
